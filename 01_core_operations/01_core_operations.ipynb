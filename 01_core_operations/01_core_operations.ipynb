{
 "cells": [
  {
   "cell_type": "markdown",
   "metadata": {},
   "source": [
    "# Piksel İşlemleri\n",
    "OpenCV, görüntü üzerinde piksel seviyesinde çalışmak için bir dizi fonksiyon sunar. Bu fonksiyonlar, görüntü üzerinde piksel değerlerini değiştirme, analiz etme ve manipüle etme yetenekleri sağlar. İşte OpenCV'de piksel işlemleri için kullanılan bazı temel fonksiyonlar:"
   ]
  },
  {
   "cell_type": "markdown",
   "metadata": {},
   "source": [
    "#### Piksel Değerine Erişme"
   ]
  },
  {
   "cell_type": "markdown",
   "metadata": {},
   "source": [
    "Görüntü işleme süreçlerinde, piksel değerlerine erişmek oldukça önemlidir. Bir görüntü, bir matris veya bir dizi olarak düşünülebilir. Her bir piksel, genellikle üç renk kanalından oluşan bir vektörle temsil edilir (örneğin, BGR renk uzayında)."
   ]
  },
  {
   "cell_type": "code",
   "execution_count": null,
   "metadata": {},
   "outputs": [],
   "source": [
    "# Belirli bir konumdaki piksel değerine erişim\n",
    "import cv2\n",
    "\n",
    "img = cv2.imread(\"test_images//basketball.jpg\")\n",
    "pixel_value = img[100, 600]\n",
    "\n",
    "# Erişilen piksel değerini yazdırma\n",
    "print(\"Piksel Değeri:\", pixel_value)\n",
    "print(\"İmg Boyut:\",img.shape)\n",
    "\n",
    "cv2.imshow(\"Window\",pixel_value)\n",
    "cv2.imshow(\"Original\",img)\n",
    "\n",
    "cv2.waitKey(0)\n",
    "cv2.destroyAllWindows()"
   ]
  },
  {
   "cell_type": "markdown",
   "metadata": {},
   "source": [
    "Bu örnekte, img adlı görüntüde (matris olarak düşünülerek) (100, 600) konumundaki pikselin renk değerlerini pixel_value adlı değişkene atıyoruz. Bu sayede o pikselin renk bilgilerini elde edebilir ve işlemlerde kullanabiliriz."
   ]
  },
  {
   "cell_type": "markdown",
   "metadata": {},
   "source": [
    "#### Pikselin Değerini Değiştirme"
   ]
  },
  {
   "cell_type": "markdown",
   "metadata": {},
   "source": [
    "Görüntü işleme uygulamalarında, belirli bir pikselin rengini değiştirmek yaygın bir ihtiyaçtır. Bu işlem, görüntü üzerinde spesifik bir pikselin renk değerlerini doğrudan kontrol etme ve bu değerleri istenen renk ile güncelleme anlamına gelir."
   ]
  },
  {
   "cell_type": "code",
   "execution_count": 1,
   "metadata": {},
   "outputs": [],
   "source": [
    "import cv2\n",
    "\n",
    "# Görüntüyü oku\n",
    "img = cv2.imread(\"test_images//cat.jpg\")\n",
    "\n",
    "# Piksel konumu (örnek olarak)\n",
    "x, y = 100, 150\n",
    "\n",
    "# Belirli bir konumdaki piksel değerini değiştirme\n",
    "img[y, x] = [0, 0, 255]  # Mavi renk -> [RED,GREEN,BLUE]\n",
    "\n",
    "# Görüntüyü ekranda göster\n",
    "cv2.imshow(\"Modified Image\", img)\n",
    "cv2.waitKey(0)\n",
    "cv2.destroyAllWindows()"
   ]
  },
  {
   "cell_type": "markdown",
   "metadata": {},
   "source": [
    "Bu örnekte, cat adlı görüntüde (matris olarak düşünülerek) (100, 150) konumundaki pikselin renk değerlerini [0, 0, 255] olarak ayarlıyoruz. Bu, mavi renkte bir piksel yapar, çünkü BGR renk uzayında [Mavi, Yeşil, Kırmızı] sırasına göre değerler atanır."
   ]
  },
  {
   "cell_type": "markdown",
   "metadata": {},
   "source": [
    "#### ROI (Region of Interest) Belirleme"
   ]
  },
  {
   "cell_type": "markdown",
   "metadata": {},
   "source": [
    "ROI, bir görüntü üzerinde ilgi duyulan belirli bir bölgedir. Bu bölge, görüntü üzerinde bir nesneyi veya belirli bir bölgeyi temsil edebilir. ROI belirleme, bu belirli bölge üzerinde işlemler gerçekleştirmek için oldukça yaygın bir tekniktir."
   ]
  },
  {
   "cell_type": "code",
   "execution_count": null,
   "metadata": {},
   "outputs": [],
   "source": [
    "import cv2\n",
    "import numpy as np\n",
    "\n",
    "# Görüntüyü oku\n",
    "img = cv2.imread(\"landscape.jpg\")\n",
    "\n",
    "# ROI'nin köşe koordinatları\n",
    "x1, y1 = 150, 100\n",
    "x2, y2 = 400, 300\n",
    "\n",
    "# ROI'yi belirleme\n",
    "roi = img[y1:y2, x1:x2]\n",
    "\n",
    "# ROI içindeki pikselleri mavi yapma\n",
    "roi[:, :] = [255, 0, 0]  # Mavi renk\n",
    "\n",
    "# Orjinal görüntüyü ekranda gösterme\n",
    "cv2.imshow(\"Original Image\", img)\n",
    "\n",
    "# ROI içindeki bölgeyi gösterme\n",
    "cv2.imshow(\"ROI\", roi)\n",
    "\n",
    "cv2.waitKey(0)\n",
    "cv2.destroyAllWindows()"
   ]
  },
  {
   "cell_type": "markdown",
   "metadata": {},
   "source": [
    "Bu örnekte, bir peyzaj görüntüsü okunur ve bu görüntü üzerinde belirli bir ROI belirlenir (150, 100) ile (400, 300) koordinatları arasındaki dikdörtgen bölge. Bu ROI içindeki pikselleri mavi renge dönüştürürüz. Son olarak, orijinal görüntüyü ve ROI içindeki bölgeyi ekranda gösteririz.\n",
    "\n",
    "Bu örnek, belirli bir bölgenin (ROI) nasıl belirleneceğini ve üzerinde nasıl işlemler yapılacağını gösterir. Gerçek uygulamalarda, ROI belirleme genellikle nesne tanıma, nesne izleme, görüntü analizi ve buna benzer uygulamalarda kullanılır. Özellikle belirli bir bölge üzerinde detaylı analiz ve işlemler gerçekleştirmek istendiğinde bu teknik oldukça faydalıdır."
   ]
  }
 ],
 "metadata": {
  "kernelspec": {
   "display_name": "Python 3",
   "language": "python",
   "name": "python3"
  },
  "language_info": {
   "codemirror_mode": {
    "name": "ipython",
    "version": 3
   },
   "file_extension": ".py",
   "mimetype": "text/x-python",
   "name": "python",
   "nbconvert_exporter": "python",
   "pygments_lexer": "ipython3",
   "version": "3.11.5"
  }
 },
 "nbformat": 4,
 "nbformat_minor": 2
}
