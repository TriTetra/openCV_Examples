{
 "cells": [
  {
   "cell_type": "markdown",
   "metadata": {},
   "source": [
    "# Şekiller\n",
    "OpenCV, kendi içinde resimler üzerinde işlemler yapmak istedndiğinde kullanabilmemizi sağlayan şekiller kendi içinde bulundurmaktadır bunlar;\n",
    "- Üçgen\n",
    "- Daire\n",
    "- Dikdörtgen\n",
    "- Çİzgi \n",
    "\n",
    "Örneklerle hepsini inceleyelim."
   ]
  },
  {
   "cell_type": "markdown",
   "metadata": {},
   "source": [
    "#### Dikdörtgen \n"
   ]
  },
  {
   "cell_type": "code",
   "execution_count": 2,
   "metadata": {},
   "outputs": [],
   "source": [
    "import cv2\n",
    "import numpy as np\n",
    "\n",
    "canvas = np.zeros((624,624,3),dtype=np.uint8)+255\n",
    "\n",
    "x1 , x2 = 100 , 500\n",
    "y1 , y2 = 200 , 500\n",
    "cv2.rectangle(canvas, (x1, y1), (x2, y2), (0, 255, 0), thickness = 2)\n",
    "\n",
    "# cv2.rectangle fonksiyonu ile bir dikdörtgen çizilir.\n",
    "# İlk argüman, görüntü üzerinde çizilecek olan canvas (arka plan) oluyor.\n",
    "# İkinci argüman, dikdörtgenin sol üst köşesinin koordinatlarıdır.\n",
    "# Üçüncü argüman, dikdörtgenin sağ alt köşesinin koordinatlarıdır.\n",
    "# Dördüncü argüman, renk. Bu durumda (0, 255, 0) yeşil renk.\n",
    "# thickness argümanı ile çizgi kalınlığı belirlenir. Bu durumda 2 piksel.\n",
    "\n",
    "cv2.imshow(\"Window\",canvas)\n",
    "\n",
    "cv2.waitKey(0)\n",
    "cv2.destroyAllWindows()"
   ]
  },
  {
   "cell_type": "markdown",
   "metadata": {},
   "source": [
    "Gördüğünüz gibi, np.zeros fonksiyonu ile 624x624 boyutlarında bir siyah canvas oluşturulur, .dtype=np.uint8 ile piksel değerleri 8-bit tamsayıya ayarlanır ve + 255 ile canvas beyaz renge ayarlanır.\n",
    "x1, x2 ile dikdörtgenin sol üst ve sağ alt köşe x koordinatları belirlenir. y1, y2 ile dikdörtgenin sol üst ve sağ alt köşe y koordinatları belirlenir.\n",
    "\n",
    "cv2.rectangle fonksiyonu ile belirlenen koordinatlarda bir dikdörtgen çizilir, (0, 255, 0) ile dikdörtgenin rengi yeşil seçilir ve thickness=2 ile çizgi kalınlığı 2 piksel olarak belirlenir."
   ]
  },
  {
   "cell_type": "markdown",
   "metadata": {},
   "source": [
    "#### Daire"
   ]
  },
  {
   "cell_type": "code",
   "execution_count": 2,
   "metadata": {},
   "outputs": [],
   "source": [
    "import cv2\n",
    "import numpy as np\n",
    "\n",
    "canvas = np.zeros((624,624,3),dtype=np.uint8)+255\n",
    "\n",
    "center = (312,312) \n",
    "radius = 20\n",
    "cv2.circle(canvas, center, radius, (0, 255, 0), thickness = 2)\n",
    "\n",
    "# cv2.circle fonksiyonu ile bir daire çizilir.\n",
    "# İlk argüman, görüntü üzerinde çizilecek olan canvas (arka plan) oluyor.\n",
    "# İkinci argüman, dairenin merkezinin bulunacağı koordinatlardır (center).\n",
    "# Üçüncü argüman, dairenin yarıçapıdır (radius).\n",
    "# Dördüncü argüman, renk. Bu durumda (0, 255, 0) yeşil renk.\n",
    "# thickness argümanı ile çizgi kalınlığı belirlenir. Bu durumda 2 piksel.\n",
    "\n",
    "cv2.imshow(\"Window\",canvas)\n",
    "\n",
    "cv2.waitKey(0)\n",
    "cv2.destroyAllWindows()"
   ]
  },
  {
   "cell_type": "markdown",
   "metadata": {},
   "source": [
    "Dairenin dikdörtgen den farkı, sadece merkez ve raidus ihtiyacı olmasıdır onun dışında kalan her işlem dikdörtgen ile aynıdır."
   ]
  },
  {
   "cell_type": "markdown",
   "metadata": {},
   "source": [
    "#### Üçgen"
   ]
  },
  {
   "cell_type": "code",
   "execution_count": 1,
   "metadata": {},
   "outputs": [],
   "source": [
    "import cv2\n",
    "import numpy as np\n",
    "\n",
    "canvas = np.zeros((624,624,3),dtype=np.uint8)+255\n",
    "\n",
    "x1, y1 = 400,100\n",
    "x2, y2 = 300,300\n",
    "x3, y3 = 500,300\n",
    "pts = np.array([[x1, y1], [x2, y2], [x3, y3]], np.int32)\n",
    "pts = pts.reshape((-1, 1, 2))\n",
    "cv2.polylines(canvas, [pts], isClosed=True, color=(255, 0, 0), thickness=3)\n",
    "\n",
    "\n",
    "# cv2.polylines fonksiyonu ile bir polilin (çokgen) çizilir.\n",
    "# İlk argüman, görüntü üzerinde çizilecek olan canvas (arka plan) oluyor.\n",
    "# İkinci argüman, çizginin köşe koordinatlarıdır.\n",
    "# isClosed parametresi, çizginin kapalı bir çizgi olup olmadığını belirler.\n",
    "# color parametresi ile çizgi rengi belirlenir. Bu durumda (255, 0, 0) mavi renk.\n",
    "# thickness parametresi ile çizgi kalınlığı belirlenir. Bu durumda 3 pikseldir.\n",
    "\n",
    "cv2.imshow(\"Window\",canvas)\n",
    "\n",
    "cv2.waitKey(0)\n",
    "cv2.destroyAllWindows()"
   ]
  },
  {
   "cell_type": "markdown",
   "metadata": {},
   "source": [
    "cv2.polylines fonksiyonu ile belirlenen koordinatlarda bir polilin (üçgen) çizilir, isClosed=True ile polilinenin kapalı bir çizgi olduğu belirtilir, color=(255, 0, 0) ile çizgi rengi belirlenir. Bu durumda mavi renk ve thickness=3 ile çizgi kalınlığı belirlenir. Bu durumda 3 pikseldir.\n",
    "\n",
    "cv2.polylines aslında çokgen olarak düşünebiliriz opencv üçgen oluşrutacak ayrı bir fonksiyonu bulunmamaktadır ancak polylines ile hem üçgen hemde daha çok köşeli şekiller oluşturulabilir."
   ]
  },
  {
   "cell_type": "markdown",
   "metadata": {},
   "source": [
    "#### Çizgi"
   ]
  },
  {
   "cell_type": "code",
   "execution_count": 1,
   "metadata": {},
   "outputs": [],
   "source": [
    "import cv2\n",
    "import numpy as np\n",
    "\n",
    "canvas = np.zeros((624,624,3),dtype=np.uint8)+255\n",
    "\n",
    "cv2.line(canvas,(50,50),(250,250),(255,0,0),thickness=5)\n",
    "cv2.line(canvas,(50,20),(170,200),(0,0,255),thickness=4)\n",
    "\n",
    "cv2.imshow(\"Window\",canvas)\n",
    "\n",
    "cv2.waitKey(0)\n",
    "cv2.destroyAllWindows()\n"
   ]
  },
  {
   "cell_type": "markdown",
   "metadata": {},
   "source": [
    "En basit işlemimiz çizgi çekmedir ve göründüğü kadar da basittir."
   ]
  },
  {
   "cell_type": "markdown",
   "metadata": {},
   "source": [
    "# Yazı ve Fontlar"
   ]
  },
  {
   "cell_type": "markdown",
   "metadata": {},
   "source": [
    "Resime şekiller gibi yazılarda ekleyebiliriz bunun için putText fonksiyonunu kullanıyor olacağız."
   ]
  },
  {
   "cell_type": "code",
   "execution_count": null,
   "metadata": {},
   "outputs": [],
   "source": [
    "import  cv2\n",
    "import numpy as ny\n",
    "\n",
    "canvas = ny.zeros((512,512,3), dtype=ny.uint8) + 255\n",
    "\n",
    "font = cv2.FONT_HERSHEY_SIMPLEX\n",
    "\n",
    "# cv2.FONT_HERSHEY_SIMPLEX: Simetrik olmayan düz bir font.\n",
    "# cv2.FONT_HERSHEY_PLAIN: Simetrik olmayan düz bir font (cv2.FONT_HERSHEY_SIMPLEX'den daha küçük).\n",
    "# cv2.FONT_HERSHEY_DUPLEX: Simetrik olmayan bir çift boyutlu font.\n",
    "# cv2.FONT_HERSHEY_COMPLEX: Çok daha karmaşık ve simetrik bir font.\n",
    "# cv2.FONT_HERSHEY_TRIPLEX: Çok daha karmaşık ve simetrik bir çift boyutlu font.\n",
    "# cv2.FONT_HERSHEY_COMPLEX_SMALL: Küçük ve karmaşık bir font.\n",
    "# cv2.FONT_HERSHEY_SCRIPT_SIMPLEX: El yazısı tarzında bir font.\n",
    "# cv2.FONT_HERSHEY_SCRIPT_COMPLEX: El yazısı tarzında karmaşık bir font.\n",
    "# cv2.FONT_ITALIC: İtalik fontu belirlemek için kullanılır.\n",
    "\n",
    "cv2.putText(canvas, \"OpenCV\", (10,150), font, 4, (0,0,0),cv2.LINE_AA)\n",
    "\n",
    "# cv2.putText fonksiyonu ile metin eklenir.\n",
    "# İlk argüman, metni içerecek olan canvas (arka plan) oluyor.\n",
    "# İkinci argüman, eklenen metindir (\"OpenCV\").\n",
    "# Üçüncü argüman, metnin başlayacağı konumun koordinatlarıdır (x, y).\n",
    "# Dördüncü argüman, kullanılacak font'u belirtir.\n",
    "# Beşinci argüman, font büyüklüğüdür.\n",
    "# Altıncı argüman, metnin rengidir. (0, 0, 0) siyah renktir.\n",
    "# Yedinci argüman, çizgi tipini belirtir. cv2.LINE_AA antialiased çizgi kullanır.\n",
    "\n",
    "cv2.imshow(\"Canvas\",canvas)\n",
    "cv2.waitKey(0)\n",
    "cv2.destroyAllWindows()"
   ]
  }
 ],
 "metadata": {
  "kernelspec": {
   "display_name": "Python 3",
   "language": "python",
   "name": "python3"
  },
  "language_info": {
   "codemirror_mode": {
    "name": "ipython",
    "version": 3
   },
   "file_extension": ".py",
   "mimetype": "text/x-python",
   "name": "python",
   "nbconvert_exporter": "python",
   "pygments_lexer": "ipython3",
   "version": "3.11.5"
  }
 },
 "nbformat": 4,
 "nbformat_minor": 2
}
