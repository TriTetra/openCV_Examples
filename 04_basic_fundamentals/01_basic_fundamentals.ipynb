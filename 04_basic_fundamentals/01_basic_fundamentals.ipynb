{
 "cells": [
  {
   "cell_type": "markdown",
   "metadata": {},
   "source": [
    "# Temel İşlemler \n",
    "Bu başlık altında openCV içindeki bir çok özelliğe göz atmış olacağız bu başlıklar;\n"
   ]
  },
  {
   "cell_type": "markdown",
   "metadata": {},
   "source": [
    "- **Temel Bilgiler**\n",
    "- **Toplama İşlemleri**\n",
    "- **Renk Uzayı ve İşlemleri**\n",
    "- **Renk Uzayı Videoları**\n",
    "- **Pencere Yeniden Boyutlandırma (Resize)**\n",
    "- **Görüntü Düzeltme (Smoothing)**\n",
    "- **Bitwise İşlemler**\n",
    "- **Resim Dönüşüm ve Dizme**\n",
    "- **Eşikleme (Thresholding)**\n",
    "- **Morfolojik İşlemler**\n",
    "- **Histogram Analizi**\n",
    "- **Kenar Tespiti (Corner Detection)**\n",
    "- **Canny Kenar Tespiti**\n",
    "\n",
    "Bu başlıkları alt başlıkları ve örnekler ile açıklayıcı bir şekilde göz atalım. "
   ]
  },
  {
   "cell_type": "markdown",
   "metadata": {},
   "source": [
    "## 1.Temel Bilgiler"
   ]
  },
  {
   "cell_type": "markdown",
   "metadata": {},
   "source": [
    "\n",
    "#### *Resim İşleme Nedir?*\n",
    "\n",
    "Resim işleme, bir giriş resmini alarak onu analiz etme ve manipüle etme sürecidir. Bu, görüntüler üzerinde çeşitli operasyonlar uygulamayı içerir, böylece belirli özellikler vurgulanabilir, gürültü azaltılabilir veya resim daha anlamlı hale getirilebilir.\n",
    "\n",
    "#### *Piksel Kavramı*\n",
    "\n",
    "Bir resim, çok sayıda pikselden (picture element) oluşur. Pikseller, bir resmi oluşturan en küçük noktalardır ve genellikle renk bilgilerini içerir. Renkli bir resimde, her piksel genellikle kırmızı (R), yeşil (G), ve mavi (B) değerlerini içerir. Bu üç renk kanalının kombinasyonu, her pikselin rengini belirler.\n",
    "\n",
    "#### *Renk Modeli Temelleri*\n",
    "\n",
    "Renk modelleri, renkleri temsil etmek için kullanılan matematiksel yöntemlerdir. Her bir renk modeli, renkleri belirli bir düzen içinde ifade eder ve farklı uygulamalarda kullanılır. İşte en yaygın kullanılan renk modellerinden bazıları:\n",
    "\n",
    "1. ***RGB (Red, Green, Blue):***\n",
    "\n",
    "- RGB modeli, bir renki üç ana renk bileşeni olan kırmızı, yeşil ve maviyle ifade eder. Her bir bileşen, 0 ile 255 arasında bir değer alabilir.\n",
    "- Örneğin, beyaz renk (255, 255, 255) tüm bileşenlerin maksimum olduğu bir renktir, siyah renk ise (0, 0, 0) tüm bileşenlerin minimum olduğu bir renktir.\n",
    "- RGB modeli genellikle bilgisayar ekranları ve dijital kameralar gibi cihazlarda kullanılır.\n",
    "2. ***HSV (Hue, Saturation, Value):***\n",
    "\n",
    "- HSV modeli, renkleri ton, doygunluk ve değer olmak üzere üç ana bileşenle ifade eder.\n",
    "- *Hue (Ton):* Renk skalasını ifade eder. 0 ile 360 derece arasında bir değer alır. Örneğin, kırmızı 0 derece, yeşil 120 derece ve mavi 240 derecedir.\n",
    "- *Saturation (Doygunluk):* Renklerin solgunluk derecesini belirtir. 0 gri tonları temsil ederken, 1 en doygun renkleri temsil eder.\n",
    "- *Value (Değer):* Renklerin parlaklık seviyesini belirtir. 0 siyah, 1 beyazdır.\n",
    "HSV modeli renk tabanlı işlemler ve renk segmentasyonunda kullanılır.\n",
    "3. ***CMYK (Cyan, Magenta, Yellow, Black):***\n",
    "\n",
    "- CMYK modeli, baskı ve renkli basılı medya gibi uygulamalarda kullanılır. Renkleri dört ana bileşenle ifade eder: cyan, magenta, sarı ve siyah (key).\n",
    "4. ***LAB (CIE 1976 Lab):***\n",
    "\n",
    "- LAB modeli, insan gözünün renk algılamasını temel alan bir renk modelidir. Renkleri L* (luminance), a* (green to red), ve b* (blue to yellow) bileşenleriyle ifade eder.\n",
    "- Renk farklarını hassas bir şekilde ölçmek için kullanılır.\n",
    "- Her renk modelinin belirli bir uygulama alanı ve avantajları vardır. Resim işleme uygulamalarında, doğru renk modelini seçmek önemlidir çünkü bu, belirli işlemleri gerçekleştirmek için daha uygun olan bir temsil şekli sağlar.\n"
   ]
  },
  {
   "cell_type": "markdown",
   "metadata": {},
   "source": [
    "## 2. Toplama İşlemleri"
   ]
  },
  {
   "cell_type": "markdown",
   "metadata": {},
   "source": [
    "#### *Genel Toplama:*\n",
    "Toplama işlemi, resimlerdeki piksellerin değerlerini birleştirme işlemidir. Bu, iki veya daha fazla resmi toplayarak yeni bir resim oluşturmayı içerir. Toplama işlemi genellikle şu şekilde ifade edilir:\n",
    "\n",
    "        Sonuc = Resim1 + Resim2\n",
    "\n",
    "Bu işlem, her iki resimdeki karşılık gelen piksellerin değerlerini toplar. Özellikle gri tonlamalı (siyah-beyaz) resimlerde kullanışlıdır."
   ]
  },
  {
   "cell_type": "code",
   "execution_count": null,
   "metadata": {},
   "outputs": [],
   "source": [
    "import cv2\n",
    "import numpy as np\n",
    "\n",
    "img1 = \"C:\\\\Users\\\\Dimoontri\\\\Desktop\\\\opencv_udemy\\\\04_basic_fundamentals\\\\test_images\\\\klon.jpg\"\n",
    "img2 = \"C:\\\\Users\\\\Dimoontri\\\\Desktop\\\\opencv_udemy\\\\04_basic_fundamentals\\\\test_images\\\\smile.jpg\"\n",
    "\n",
    "# İki resmi yükle\n",
    "resim1 = cv2.imread(img1)\n",
    "resim2 = cv2.imread(img2)\n",
    "\n",
    "# Boyutları al\n",
    "boyut1 = resim1.shape\n",
    "boyut2 = resim2.shape\n",
    "\n",
    "print(boyut1,boyut2)\n",
    "\n",
    "\n",
    "# Boyutları eşitle\n",
    "if boyut1 != boyut2:\n",
    "    genislik = min(boyut1[3], boyut2[3])\n",
    "    yukseklik = min(boyut1[2], boyut2[2])\n",
    "\n",
    "    resim1 = cv2.resize(resim1, (genislik, yukseklik))\n",
    "    resim2 = cv2.resize(resim2, (genislik, yukseklik))\n",
    "\n",
    "    print(f\"Resim boyutlari eşitlendi: {genislik} x {yukseklik}\")\n",
    "else:\n",
    "    print(\"Resimler zaten ayni boyutta.\")\n",
    "\n",
    "\n",
    "# İki resmi topla\n",
    "genel_toplam = cv2.add(resim1, resim2)\n",
    "\n",
    "# Sonuçları göster\n",
    "cv2.imshow('Genel Toplama', genel_toplam)\n",
    "cv2.waitKey(0)\n",
    "cv2.destroyAllWindows()"
   ]
  },
  {
   "cell_type": "markdown",
   "metadata": {},
   "source": [
    "#### *Resimlerde Toplama:*\n",
    "Resimlerde toplama işlemi, her pikselin renk bileşenlerini (örneğin, RGB bileşenleri) aynı pozisyonlardaki piksellerden alarak yeni bir resim oluşturmayı içerir. Örneğin, iki renkli resmi toplamak için şu formül kullanılabilir:\n",
    "\n",
    "        Sonuc = Resim1 + Resim2\n",
    "    \n",
    "Burada, \"Resim1\" ve \"Resim2\" birbirine aynı boyutta renkli resimlerdir."
   ]
  },
  {
   "cell_type": "code",
   "execution_count": 1,
   "metadata": {},
   "outputs": [],
   "source": [
    "import cv2\n",
    "import numpy as np\n",
    "\n",
    "img1 = \"C:\\\\Users\\\\Dimoontri\\\\Desktop\\\\opencv_udemy\\\\04_basic_fundamentals\\\\test_images\\\\klon.jpg\"\n",
    "img2 = \"C:\\\\Users\\\\Dimoontri\\\\Desktop\\\\opencv_udemy\\\\04_basic_fundamentals\\\\test_images\\\\smile.jpg\"\n",
    "\n",
    "# İki resmi yükle\n",
    "resim1 = cv2.imread(img1)\n",
    "resim2 = cv2.imread(img2)\n",
    "\n",
    "# İki resmi topla (resimlerin değerleri üst üste gelir)\n",
    "resimlerde_toplam = resim1 + resim2\n",
    "\n",
    "# Sonuçları göster\n",
    "cv2.imshow('Resimlerde Toplama', resimlerde_toplam)\n",
    "cv2.waitKey(0)\n",
    "cv2.destroyAllWindows()"
   ]
  },
  {
   "cell_type": "markdown",
   "metadata": {},
   "source": [
    "\n",
    "#### *Ağırlıklı Toplama:*\n",
    "Ağırlıklı toplama, her pikselin belirli bir ağırlıkla çarpıldıktan sonra toplandığı bir işlemdir. Bu, belirli bir resmin toplam katkısını vurgulamak veya azaltmak için kullanılabilir.\n",
    "\n",
    "        Sonuc = w1 x Resim1 + w2 x Resim2\n",
    "\n",
    "Burada w1 ve w2 ağırlık faktörleridir. Ağırlıklı toplama, özellikle farklı resimlerin belirli özelliklerini vurgulamak veya birleştirmek istediğiniz durumlarda kullanışlıdır. \n",
    "\n",
    "Örneğin, iki resmi ağırlıklı olarak toplamak için, her bir resme farklı bir ağırlık atayarak belirli renk özelliklerini vurgulayabilir veya bastırabilirsiniz.\n",
    "\n",
    "Bu temel toplama işlemleri, resim işleme alanında daha karmaşık işlemlerin temelini oluşturur. İlerleyen konularda, bu temel kavramları kullanarak daha gelişmiş teknikleri öğrenebilirsiniz."
   ]
  },
  {
   "cell_type": "code",
   "execution_count": 1,
   "metadata": {},
   "outputs": [],
   "source": [
    "import cv2\n",
    "import numpy as np\n",
    "\n",
    "img1 = \"C:\\\\Users\\\\Dimoontri\\\\Desktop\\\\opencv_udemy\\\\04_basic_fundamentals\\\\test_images\\\\klon.jpg\"\n",
    "img2 = \"C:\\\\Users\\\\Dimoontri\\\\Desktop\\\\opencv_udemy\\\\04_basic_fundamentals\\\\test_images\\\\smile.jpg\"\n",
    "\n",
    "# İki resmi yükle\n",
    "resim1 = cv2.imread(img1)\n",
    "resim2 = cv2.imread(img2)\n",
    "\n",
    "# Ağırlıkları belirle\n",
    "w1 = 0.7\n",
    "w2 = 0.3\n",
    "\n",
    "# Ağırlıklı toplama\n",
    "agirlikli_toplam = cv2.addWeighted(resim1, w1, resim2, w2, 0)\n",
    "\n",
    "# Sonuçları göster\n",
    "cv2.imshow('Ağirlikli Toplama', agirlikli_toplam)\n",
    "cv2.waitKey(0)\n",
    "cv2.destroyAllWindows()\n"
   ]
  },
  {
   "cell_type": "markdown",
   "metadata": {},
   "source": [
    "**Renk Uzayı ve İşlemleri**\n",
    "- Renk Uzayı Nedir?\n",
    "- RGB ve HSV Renk Modelleri\n",
    "- Renk Uzayı Transformasyonları\n",
    "\n",
    "**Renk Uzayı Videoları**\n",
    "- Videolarda Renk Uzayı İşlemleri\n",
    "\n",
    "**Pencere Yeniden Boyutlandırma (Resize)**\n",
    "- Resim Yeniden Boyutlandırma\n",
    "- Aspect Ratio Koruma\n",
    "\n",
    "**Görüntü Düzeltme (Smoothing)**\n",
    "- Görüntüyü Pürüzsüzleştirme Yöntemleri\n",
    "- Filtreleme ve Konvolüsyon\n",
    "\n",
    "**Bitwise İşlemler**\n",
    "- Bitwise Mantık Operatörleri\n",
    "- Resim Üzerinde Bitwise İşlemler\n",
    "\n",
    "**Resim Dönüşüm ve Dizme**\n",
    "- Resim Döndürme İşlemleri\n",
    "- Resim Dizme (Flipping)\n",
    "\n",
    "**Eşikleme (Thresholding)**\n",
    "- Eşikleme Temelleri\n",
    "- Otsu's Method ve Adaptive Thresholding\n",
    "\n",
    "**Morfolojik İşlemler**\n",
    "- Genişleme, Daraltma ve Açma/Kapama Operasyonları\n",
    "- Structuring Element Kavramı\n",
    "\n",
    "**Histogram Analizi**\n",
    "- Histogram Nedir?\n",
    "- Histogram Eşitleme\n",
    "\n",
    "**Kenar Tespiti (Corner Detection)**\n",
    "- Harris Corner Detection\n",
    "- Shi-Tomasi Corner Detection\n",
    "\n",
    "**Canny Kenar Tespiti**\n",
    "- Canny Edge Detection Temelleri\n",
    "- Canny Algoritması Aşamaları"
   ]
  }
 ],
 "metadata": {
  "kernelspec": {
   "display_name": "Python 3",
   "language": "python",
   "name": "python3"
  },
  "language_info": {
   "codemirror_mode": {
    "name": "ipython",
    "version": 3
   },
   "file_extension": ".py",
   "mimetype": "text/x-python",
   "name": "python",
   "nbconvert_exporter": "python",
   "pygments_lexer": "ipython3",
   "version": "3.11.5"
  }
 },
 "nbformat": 4,
 "nbformat_minor": 2
}
