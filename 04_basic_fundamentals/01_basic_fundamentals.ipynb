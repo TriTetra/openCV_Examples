{
 "cells": [
  {
   "cell_type": "markdown",
   "metadata": {},
   "source": [
    "# Temel İşlemler \n",
    "Bu başlık altında openCV içindeki bir çok özelliğe göz atmış olacağız bu başlıklar;\n"
   ]
  },
  {
   "cell_type": "markdown",
   "metadata": {},
   "source": [
    "- **Temel Bilgiler**\n",
    "- **Toplama İşlemleri**\n",
    "- **Renk Uzayı ve İşlemleri**\n",
    "- **Renk Uzayı Videoları**\n",
    "- **Pencere Yeniden Boyutlandırma (Resize)**\n",
    "- **Görüntü Düzeltme (Smoothing)**\n",
    "- **Bitwise İşlemler**\n",
    "- **Resim Dönüşüm ve Dizme**\n",
    "- **Eşikleme (Thresholding)**\n",
    "- **Morfolojik İşlemler**\n",
    "- **Histogram Analizi**\n",
    "- **Kenar Tespiti (Corner Detection)**\n",
    "- **Canny Kenar Tespiti**\n",
    "\n",
    "Bu başlıkları alt başlıkları ve örnekler ile açıklayıcı bir şekilde göz atalım. "
   ]
  },
  {
   "cell_type": "markdown",
   "metadata": {},
   "source": [
    "## 1.Temel Bilgiler"
   ]
  },
  {
   "cell_type": "markdown",
   "metadata": {},
   "source": [
    "\n",
    "#### *Resim İşleme Nedir?*\n",
    "\n",
    "Resim işleme, bir giriş resmini alarak onu analiz etme ve manipüle etme sürecidir. Bu, görüntüler üzerinde çeşitli operasyonlar uygulamayı içerir, böylece belirli özellikler vurgulanabilir, gürültü azaltılabilir veya resim daha anlamlı hale getirilebilir.\n",
    "\n",
    "#### *Piksel Kavramı*\n",
    "\n",
    "Bir resim, çok sayıda pikselden (picture element) oluşur. Pikseller, bir resmi oluşturan en küçük noktalardır ve genellikle renk bilgilerini içerir. Renkli bir resimde, her piksel genellikle kırmızı (R), yeşil (G), ve mavi (B) değerlerini içerir. Bu üç renk kanalının kombinasyonu, her pikselin rengini belirler.\n",
    "\n",
    "#### *Renk Modeli Temelleri*\n",
    "\n",
    "Renk modelleri, renkleri temsil etmek için kullanılan matematiksel yöntemlerdir. Her bir renk modeli, renkleri belirli bir düzen içinde ifade eder ve farklı uygulamalarda kullanılır. İşte en yaygın kullanılan renk modellerinden bazıları:\n",
    "\n",
    "1. ***RGB (Red, Green, Blue):***\n",
    "\n",
    "- RGB modeli, bir renki üç ana renk bileşeni olan kırmızı, yeşil ve maviyle ifade eder. Her bir bileşen, 0 ile 255 arasında bir değer alabilir.\n",
    "- Örneğin, beyaz renk (255, 255, 255) tüm bileşenlerin maksimum olduğu bir renktir, siyah renk ise (0, 0, 0) tüm bileşenlerin minimum olduğu bir renktir.\n",
    "- RGB modeli genellikle bilgisayar ekranları ve dijital kameralar gibi cihazlarda kullanılır.\n",
    "2. ***HSV (Hue, Saturation, Value):***\n",
    "\n",
    "- HSV modeli, renkleri ton, doygunluk ve değer olmak üzere üç ana bileşenle ifade eder.\n",
    "- *Hue (Ton):* Renk skalasını ifade eder. 0 ile 360 derece arasında bir değer alır. Örneğin, kırmızı 0 derece, yeşil 120 derece ve mavi 240 derecedir.\n",
    "- *Saturation (Doygunluk):* Renklerin solgunluk derecesini belirtir. 0 gri tonları temsil ederken, 1 en doygun renkleri temsil eder.\n",
    "- *Value (Değer):* Renklerin parlaklık seviyesini belirtir. 0 siyah, 1 beyazdır.\n",
    "HSV modeli renk tabanlı işlemler ve renk segmentasyonunda kullanılır.\n",
    "3. ***CMYK (Cyan, Magenta, Yellow, Black):***\n",
    "\n",
    "- CMYK modeli, baskı ve renkli basılı medya gibi uygulamalarda kullanılır. Renkleri dört ana bileşenle ifade eder: cyan, magenta, sarı ve siyah (key).\n",
    "4. ***LAB (CIE 1976 Lab):***\n",
    "\n",
    "- LAB modeli, insan gözünün renk algılamasını temel alan bir renk modelidir. Renkleri L* (luminance), a* (green to red), ve b* (blue to yellow) bileşenleriyle ifade eder.\n",
    "- Renk farklarını hassas bir şekilde ölçmek için kullanılır.\n",
    "- Her renk modelinin belirli bir uygulama alanı ve avantajları vardır. Resim işleme uygulamalarında, doğru renk modelini seçmek önemlidir çünkü bu, belirli işlemleri gerçekleştirmek için daha uygun olan bir temsil şekli sağlar.\n"
   ]
  },
  {
   "cell_type": "markdown",
   "metadata": {},
   "source": [
    "---"
   ]
  },
  {
   "cell_type": "markdown",
   "metadata": {},
   "source": [
    "## 2. Toplama İşlemleri"
   ]
  },
  {
   "cell_type": "markdown",
   "metadata": {},
   "source": [
    "#### *Genel Toplama:*\n",
    "Toplama işlemi, resimlerdeki piksellerin değerlerini birleştirme işlemidir. Bu, iki veya daha fazla resmi toplayarak yeni bir resim oluşturmayı içerir. Toplama işlemi genellikle şu şekilde ifade edilir:\n",
    "\n",
    "        Sonuc = Resim1 + Resim2\n",
    "\n",
    "Bu işlem, her iki resimdeki karşılık gelen piksellerin değerlerini toplar. Özellikle gri tonlamalı (siyah-beyaz) resimlerde kullanışlıdır."
   ]
  },
  {
   "cell_type": "code",
   "execution_count": null,
   "metadata": {},
   "outputs": [],
   "source": [
    "import cv2\n",
    "import numpy as np\n",
    "\n",
    "img1 = \"C:\\\\Users\\\\Dimoontri\\\\Desktop\\\\opencv_udemy\\\\04_basic_fundamentals\\\\test_images\\\\klon.jpg\"\n",
    "img2 = \"C:\\\\Users\\\\Dimoontri\\\\Desktop\\\\opencv_udemy\\\\04_basic_fundamentals\\\\test_images\\\\smile.jpg\"\n",
    "\n",
    "# İki resmi yükle\n",
    "resim1 = cv2.imread(img1)\n",
    "resim2 = cv2.imread(img2)\n",
    "\n",
    "# Boyutları al\n",
    "boyut1 = resim1.shape\n",
    "boyut2 = resim2.shape\n",
    "\n",
    "print(boyut1,boyut2)\n",
    "\n",
    "\n",
    "# Boyutları eşitle\n",
    "if boyut1 != boyut2:\n",
    "    genislik = min(boyut1[3], boyut2[3])\n",
    "    yukseklik = min(boyut1[2], boyut2[2])\n",
    "\n",
    "    resim1 = cv2.resize(resim1, (genislik, yukseklik))\n",
    "    resim2 = cv2.resize(resim2, (genislik, yukseklik))\n",
    "\n",
    "    print(f\"Resim boyutlari eşitlendi: {genislik} x {yukseklik}\")\n",
    "else:\n",
    "    print(\"Resimler zaten ayni boyutta.\")\n",
    "\n",
    "\n",
    "# İki resmi topla\n",
    "genel_toplam = cv2.add(resim1, resim2)\n",
    "\n",
    "# Sonuçları göster\n",
    "cv2.imshow('Genel Toplama', genel_toplam)\n",
    "cv2.waitKey(0)\n",
    "cv2.destroyAllWindows()"
   ]
  },
  {
   "cell_type": "markdown",
   "metadata": {},
   "source": [
    "#### *Resimlerde Toplama:*\n",
    "Resimlerde toplama işlemi, her pikselin renk bileşenlerini (örneğin, RGB bileşenleri) aynı pozisyonlardaki piksellerden alarak yeni bir resim oluşturmayı içerir. Örneğin, iki renkli resmi toplamak için şu formül kullanılabilir:\n",
    "\n",
    "        Sonuc = Resim1 + Resim2\n",
    "    \n",
    "Burada, \"Resim1\" ve \"Resim2\" birbirine aynı boyutta renkli resimlerdir."
   ]
  },
  {
   "cell_type": "code",
   "execution_count": 1,
   "metadata": {},
   "outputs": [],
   "source": [
    "import cv2\n",
    "import numpy as np\n",
    "\n",
    "img1 = \"C:\\\\Users\\\\Dimoontri\\\\Desktop\\\\opencv_udemy\\\\04_basic_fundamentals\\\\test_images\\\\klon.jpg\"\n",
    "img2 = \"C:\\\\Users\\\\Dimoontri\\\\Desktop\\\\opencv_udemy\\\\04_basic_fundamentals\\\\test_images\\\\smile.jpg\"\n",
    "\n",
    "# İki resmi yükle\n",
    "resim1 = cv2.imread(img1)\n",
    "resim2 = cv2.imread(img2)\n",
    "\n",
    "# İki resmi topla (resimlerin değerleri üst üste gelir)\n",
    "resimlerde_toplam = resim1 + resim2\n",
    "\n",
    "# Sonuçları göster\n",
    "cv2.imshow('Resimlerde Toplama', resimlerde_toplam)\n",
    "cv2.waitKey(0)\n",
    "cv2.destroyAllWindows()"
   ]
  },
  {
   "cell_type": "markdown",
   "metadata": {},
   "source": [
    "\n",
    "#### *Ağırlıklı Toplama:*\n",
    "Ağırlıklı toplama, her pikselin belirli bir ağırlıkla çarpıldıktan sonra toplandığı bir işlemdir. Bu, belirli bir resmin toplam katkısını vurgulamak veya azaltmak için kullanılabilir.\n",
    "\n",
    "        Sonuc = w1 x Resim1 + w2 x Resim2\n",
    "\n",
    "Burada w1 ve w2 ağırlık faktörleridir. Ağırlıklı toplama, özellikle farklı resimlerin belirli özelliklerini vurgulamak veya birleştirmek istediğiniz durumlarda kullanışlıdır. \n",
    "\n",
    "Örneğin, iki resmi ağırlıklı olarak toplamak için, her bir resme farklı bir ağırlık atayarak belirli renk özelliklerini vurgulayabilir veya bastırabilirsiniz.\n",
    "\n",
    "Bu temel toplama işlemleri, resim işleme alanında daha karmaşık işlemlerin temelini oluşturur. İlerleyen konularda, bu temel kavramları kullanarak daha gelişmiş teknikleri öğrenebilirsiniz."
   ]
  },
  {
   "cell_type": "code",
   "execution_count": 1,
   "metadata": {},
   "outputs": [],
   "source": [
    "import cv2\n",
    "import numpy as np\n",
    "\n",
    "img1 = \"C:\\\\Users\\\\Dimoontri\\\\Desktop\\\\opencv_udemy\\\\04_basic_fundamentals\\\\test_images\\\\klon.jpg\"\n",
    "img2 = \"C:\\\\Users\\\\Dimoontri\\\\Desktop\\\\opencv_udemy\\\\04_basic_fundamentals\\\\test_images\\\\smile.jpg\"\n",
    "\n",
    "# İki resmi yükle\n",
    "resim1 = cv2.imread(img1)\n",
    "resim2 = cv2.imread(img2)\n",
    "\n",
    "# Ağırlıkları belirle\n",
    "w1 = 0.7\n",
    "w2 = 0.3\n",
    "\n",
    "# Ağırlıklı toplama\n",
    "agirlikli_toplam = cv2.addWeighted(resim1, w1, resim2, w2, 0)\n",
    "\n",
    "# Sonuçları göster\n",
    "cv2.imshow('Ağirlikli Toplama', agirlikli_toplam)\n",
    "cv2.waitKey(0)\n",
    "cv2.destroyAllWindows()\n"
   ]
  },
  {
   "cell_type": "markdown",
   "metadata": {},
   "source": [
    "---"
   ]
  },
  {
   "cell_type": "markdown",
   "metadata": {},
   "source": [
    "## 3. Renk Uzayı ve İşlemleri"
   ]
  },
  {
   "cell_type": "markdown",
   "metadata": {},
   "source": [
    "\n",
    "#### *Renk Uzayı Nedir?*\n",
    "Renk uzayı, bir renk modelini temsil etmek için kullanılan bir koordinat sistemidir. Bu sistem, renklerin nicel olarak ifade edilmesini ve işlenmesini sağlar. Farklı renk uzayları, farklı renk modeli temsil biçimlerine sahiptir ve belirli uygulamalarda daha uygun olabilir. İşte renk uzaylarının çeşitli örnekleri:\n",
    "\n",
    "- **RGB (Red, Green, Blue):** Görüntüyü oluşturan temel renk bileşenlerini ifade eder. Her piksel, kırmızı (R), yeşil (G) ve mavi (B) bileşenlere sahiptir.\n",
    "\n",
    "- **HSV (Hue, Saturation, Value):** Renk tonu (Hue), doygunluk (Saturation) ve parlaklık (Value) bileşenlerini içerir. HSV, renkleri insan gözünün algılamasına daha yakın bir şekilde temsil eder ve renk manipülasyonları için sıklıkla kullanılır.\n",
    "\n",
    "- **Gray (Gri):** Yalnızca parlaklık bilgisini içerir. Her piksel tek bir değeri temsil eder, bu da gri tonlamalı bir görüntü elde edilmesini sağlar."
   ]
  },
  {
   "cell_type": "markdown",
   "metadata": {},
   "source": [
    "#### *RGB ve HSV Renk Modelleri*\n",
    "**RGB Renk Modeli**\n",
    "- RGB renk modeli, kırmızı (Red), yeşil (Green) ve mavi (Blue) temel renk bileşenlerini kullanarak renkleri ifade eder. Bu modelde, her pikselin rengi bu üç bileşenin kombinasyonuyla belirlenir. Örneğin, beyaz renk (255, 255, 255) olarak ifade edilirken, siyah renk (0, 0, 0) şeklinde temsil edilir.\n",
    "\n",
    "\n",
    "**HSV Renk Modeli**\n",
    "- HSV renk modeli, renkleri renk tonu (Hue), doygunluk (Saturation) ve parlaklık (Value) bileşenleriyle ifade eder. Bu model, renkleri insan gözünün algılamasına daha yakın bir şekilde temsil eder. Renk tonu, renk çemberindeki bir açıdır; doygunluk, renk doygunluğunu kontrol eder; parlaklık ise rengin yoğunluğunu temsil eder."
   ]
  },
  {
   "cell_type": "code",
   "execution_count": 1,
   "metadata": {},
   "outputs": [],
   "source": [
    "import cv2\n",
    "import numpy as np\n",
    "\n",
    "# Görüntüyü oku\n",
    "image_path = 'C:\\\\Users\\\\Dimoontri\\\\Desktop\\\\opencv_udemy\\\\04_basic_fundamentals\\\\test_images\\\\smile.jpg'\n",
    "image = cv2.imread(image_path)\n",
    "\n",
    "# RGB renk uzayını ekranda göster\n",
    "cv2.imshow('RGB Görüntü', image)\n",
    "\n",
    "# RGB renk uzayından Grayscale (Gri) renk uzayına dönüştür\n",
    "gray_image = cv2.cvtColor(image, cv2.COLOR_BGR2GRAY)\n",
    "\n",
    "# Grayscale renk uzayını ekranda göster\n",
    "cv2.imshow('Grayscale Görüntü', gray_image)\n",
    "\n",
    "# RGB renk uzayından HSV renk uzayına dönüştür\n",
    "hsv_image = cv2.cvtColor(image, cv2.COLOR_BGR2HSV)\n",
    "\n",
    "# HSV renk uzayını ekranda göster\n",
    "cv2.imshow('HSV Görüntü', hsv_image)\n",
    "\n",
    "# HSV renk uzayından RGB renk uzayına dönüştür\n",
    "back_to_rgb = cv2.cvtColor(hsv_image, cv2.COLOR_HSV2BGR)\n",
    "\n",
    "# Dönüştürülmüş görüntüyü ekranda göster\n",
    "cv2.imshow('HSV to RGB Görüntü', back_to_rgb)\n",
    "\n",
    "\n",
    "cv2.waitKey(0)\n",
    "cv2.destroyAllWindows()"
   ]
  },
  {
   "cell_type": "markdown",
   "metadata": {},
   "source": [
    "\n",
    "#### *Renk Uzayı Transformasyonları*"
   ]
  },
  {
   "cell_type": "code",
   "execution_count": 1,
   "metadata": {},
   "outputs": [],
   "source": [
    "import cv2\n",
    "import numpy as np\n",
    "\n",
    "# Görüntüyü oku\n",
    "image_path = 'C:\\\\Users\\\\Dimoontri\\\\Desktop\\\\opencv_udemy\\\\04_basic_fundamentals\\\\test_images\\\\smile.jpg'\n",
    "image = cv2.imread(image_path)\n",
    "\n",
    "# RGB renk uzayını ekranda göster\n",
    "cv2.imshow('RGB Görüntü', image)\n",
    "\n",
    "\n",
    "# RGB renk uzayından HSV renk uzayına dönüştür\n",
    "hsv_image = cv2.cvtColor(image, cv2.COLOR_BGR2HSV)\n",
    "\n",
    "# HSV renk uzayını ekranda göster\n",
    "cv2.imshow('HSV Görüntü', hsv_image)\n",
    "\n",
    "\n",
    "# HSV renk uzayından LAB renk uzayına dönüştür\n",
    "lab_image = cv2.cvtColor(image, cv2.COLOR_BGR2LAB)\n",
    "\n",
    "# LAB renk uzayını ekranda göster\n",
    "cv2.imshow('LAB Görüntü', lab_image)\n",
    "\n",
    "\n",
    "# Renk kanallarıyla oynayarak görüntüde değişiklik yap\n",
    "# Örneğin, HSV renk uzayında sadece renk tonu kanalını arttırarak\n",
    "# orijinal görüntüde renk değişiklikleri yapabiliriz.\n",
    "hsv_image[:, :, 0] = (hsv_image[:, :, 0] + 30) % 180\n",
    "\n",
    "# Değiştirilmiş görüntüyü ekranda göster\n",
    "modified_image = cv2.cvtColor(hsv_image, cv2.COLOR_HSV2BGR)\n",
    "cv2.imshow('Değiştirilmiş Görüntü', modified_image)\n",
    "cv2.waitKey(0)\n",
    "cv2.destroyAllWindows()"
   ]
  },
  {
   "cell_type": "markdown",
   "metadata": {},
   "source": [
    "Bu örnek, önce RGB renk uzayında okunan bir görüntü gösterir. Daha sonra, bu görüntüyü HSV renk uzayına dönüştürerek ekranda gösterir. Son olarak, HSV renk uzayından LAB renk uzayına dönüş yapar ve bu görüntüyü ekranda gösterir. Ayrıca, HSV renk uzayındaki renk tonu kanalını arttırarak görüntüde renk değişiklikleri yapar ve değiştirilmiş görüntüyü gösterir.\n",
    "\n",
    "Bu örnekte, renk uzayı transformasyonları ile birlikte renk kanalları üzerinde yapılan basit manipülasyonlar da gösterilmektedir. Bu tür manipülasyonlar, görüntü üzerinde renk düzeyini değiştirmek veya belirli renk bileşenlerini izole etmek için kullanılabilir."
   ]
  },
  {
   "cell_type": "markdown",
   "metadata": {},
   "source": [
    "## 4. *Renk Uzayı Videoları*"
   ]
  },
  {
   "cell_type": "markdown",
   "metadata": {},
   "source": [
    "\n",
    "Renk uzayı işlemleri, videolarda da kullanılabilir ve bir dizi uygulama için önemlidir. Videolarda renk uzayı işlemleri genellikle aynı temel prensiplere dayanır, ancak her bir kare üzerinde uygulanır. İşte videolarda renk uzayı işlemleri için genel bir rehber:"
   ]
  },
  {
   "cell_type": "markdown",
   "metadata": {},
   "source": [
    "\n",
    "#### *Videolarda Renk Uzayı İşlemleri*\n",
    "- **Renk Uzayı Dönüşümleri:**\n",
    "Videolar genellikle bir dizi kare içerir ve her kare üzerinde renk uzayı dönüşümleri uygulanabilir. Bu, özellikle renk dengesi, kontrast ve parlaklık gibi özelliklerin düzenlenmesi veya belirli renk tonlarının vurgulanması için kullanışlıdır."
   ]
  },
  {
   "cell_type": "code",
   "execution_count": 3,
   "metadata": {},
   "outputs": [],
   "source": [
    "import cv2\n",
    "\n",
    "# Videoyu oku\n",
    "video_path = 'C:\\\\Users\\\\Dimoontri\\\\Desktop\\\\opencv_udemy\\\\hough_transform\\\\line.mp4'\n",
    "cap = cv2.VideoCapture(video_path)\n",
    "\n",
    "while True:\n",
    "    ret, frame = cap.read()\n",
    "    if not ret:\n",
    "        break\n",
    "\n",
    "    # RGB'den HSV'ye dönüşüm\n",
    "    hsv_frame = cv2.cvtColor(frame, cv2.COLOR_BGR2HSV)\n",
    "    gray = cv2.cvtColor(frame,cv2.COLOR_BGR2GRAY)\n",
    "\n",
    "    # Burada başka işlemler yapılabilir\n",
    "\n",
    "    # Sonuçları göster\n",
    "    cv2.imshow('Original Video', frame)\n",
    "    cv2.imshow(\"HSV Video\", hsv_frame)\n",
    "    cv2.imshow(\"Gray Video\",gray)\n",
    "\n",
    "    if cv2.waitKey(30) & 0xFF == 27:  # Esc tuşuna basıldığında çık\n",
    "        break\n",
    "\n",
    "cap.release()\n",
    "cv2.destroyAllWindows()"
   ]
  },
  {
   "cell_type": "markdown",
   "metadata": {},
   "source": [
    "- **Renk Tabanlı Nesne Tespiti ve İzleme:** Videolarda belirli renklerdeki nesneleri tespit etmek ve izlemek için renk uzayları kullanılabilir. Bu, nesne takibi veya hareket tespiti uygulamalarında yaygındır."
   ]
  },
  {
   "cell_type": "code",
   "execution_count": 5,
   "metadata": {},
   "outputs": [],
   "source": [
    "# OpenCV ve NumPy kütüphanelerini içe aktar\n",
    "import cv2\n",
    "import numpy as np\n",
    "\n",
    "# Video dosyasını oku\n",
    "video_path = 'C:\\\\Users\\\\Dimoontri\\\\Desktop\\\\opencv_udemy\\\\hough_transform\\\\line.mp4'\n",
    "cap = cv2.VideoCapture(video_path)\n",
    "\n",
    "# Sonsuz bir döngü başlat\n",
    "while True:\n",
    "    # Video karesini oku\n",
    "    ret, frame = cap.read()\n",
    "\n",
    "    # Eğer video sona erdiyse döngüden çık\n",
    "    if not ret:\n",
    "        break\n",
    "\n",
    "    # Görüntüyü HSV renk uzayına dönüştür\n",
    "    hsv_frame = cv2.cvtColor(frame, cv2.COLOR_BGR2HSV)\n",
    "\n",
    "    # Belirli bir renk aralığındaki nesneleri izole etmek için bir maske oluştur\n",
    "    lower_blue = np.array([100, 50, 50])\n",
    "    upper_blue = np.array([130, 255, 255])\n",
    "    mask = cv2.inRange(hsv_frame, lower_blue, upper_blue)\n",
    "\n",
    "    # Orijinal kare üzerine maskeyi uygula ve sonucu elde et\n",
    "    result = cv2.bitwise_and(frame, frame, mask=mask)\n",
    "\n",
    "    # Sonuçları ekranda göster\n",
    "    cv2.imshow(\"Original\",frame)\n",
    "    cv2.imshow('Video', result)\n",
    "\n",
    "    # \"Esc\" tuşuna basıldığında döngüden çık\n",
    "    if cv2.waitKey(30) & 0xFF == 27:\n",
    "        break\n",
    "\n",
    "# Video oynatmayı durdur ve pencereyi kapat\n",
    "cap.release()\n",
    "cv2.destroyAllWindows()"
   ]
  },
  {
   "cell_type": "markdown",
   "metadata": {},
   "source": [
    "---"
   ]
  },
  {
   "cell_type": "markdown",
   "metadata": {},
   "source": [
    "\n",
    "## 5. Pencere Yeniden Boyutlandırma (Resize)"
   ]
  },
  {
   "cell_type": "markdown",
   "metadata": {},
   "source": [
    "\n",
    "- Resim Yeniden Boyutlandırma\n",
    "- Aspect Ratio Koruma"
   ]
  },
  {
   "cell_type": "code",
   "execution_count": null,
   "metadata": {},
   "outputs": [],
   "source": [
    "import cv2\n",
    "\n",
    "# Resmi oku\n",
    "image_path = \"C:\\\\Users\\\\Dimoontri\\\\Desktop\\\\opencv_udemy\\\\04_basic_fundamentals\\\\test_images\\\\helicopter.jpg\"\n",
    "original_image = cv2.imread(image_path)\n",
    "\n",
    "# Orijinal resmin boyutları\n",
    "original_height, original_width = original_image.shape[:2]\n",
    "print(\"Orijinal Resim Boyutlari:\", original_width, \"x\", original_height)\n",
    "\n",
    "# Yeni genişlik ve yükseklik değerlerini belirle\n",
    "new_width = 300\n",
    "new_height = int((new_width / original_width) * original_height)\n",
    "\n",
    "# Resmi yeniden boyutlandır\n",
    "resized_image = cv2.resize(original_image, (new_width, new_height))\n",
    "\n",
    "# Yeniden boyutlandırılmış resmin boyutları\n",
    "resized_height, resized_width = resized_image.shape[:2]\n",
    "print(\"Yeniden Boyutlandirilmiş Resim Boyutlari:\", resized_width, \"x\", resized_height)\n",
    "\n",
    "# Orijinal resmi göster\n",
    "cv2.imshow(\"Orijinal Resim\", original_image)\n",
    "\n",
    "# Yeniden boyutlandırılmış resmi göster\n",
    "cv2.imshow(\"Yeniden Boyutlandirilmiş Resim\", resized_image)\n",
    "\n",
    "# Pencereyi kapatmak için herhangi bir tuşa basın\n",
    "cv2.waitKey(0)\n",
    "cv2.destroyAllWindows()\n"
   ]
  },
  {
   "cell_type": "markdown",
   "metadata": {},
   "source": [
    "\n",
    "## 6. Görüntü Düzeltme (Smoothing)\n"
   ]
  },
  {
   "cell_type": "markdown",
   "metadata": {},
   "source": [
    "#### *Görüntüyü Pürüzsüzleştirme Yöntemleri:*\n",
    "\n",
    "Görüntü pürüzsüzleştirme, bir görüntüdeki gürültüyü azaltma veya kenarları yumuşatma amacıyla kullanılan bir dizi teknik içerir. Bu teknikler, genellikle filtreleme ve konvolüsyon işlemlerini içerir. OpenCV, bu işlemleri gerçekleştirmek için bir dizi fonksiyon ve filtre sunar.\n",
    "\n",
    "##### *Filtreleme:*\n",
    "\n",
    "Filtreleme, bir görüntü üzerinde belirli bir filtre matrisini uygulama sürecidir. Bu matris, görüntüde belirli bir bölgeye uygulandığında, piksellerin toplamını veya ortalamasını alarak pürüzsüzleştirme veya belirli özellikleri vurgulama işlemi gerçekleştirir"
   ]
  },
  {
   "cell_type": "code",
   "execution_count": 4,
   "metadata": {},
   "outputs": [],
   "source": [
    "import cv2\n",
    "import numpy as np\n",
    "\n",
    "# Resmi oku\n",
    "image_path = \"C:\\\\Users\\\\Dimoontri\\\\Desktop\\\\opencv_udemy\\\\04_basic_fundamentals\\\\test_images\\\\smile.jpg\"\n",
    "img = cv2.imread(image_path)\n",
    "\n",
    "# Ortalama Filtresi (Blur)\n",
    "average_blur = cv2.blur(img, (5, 5))\n",
    "\n",
    "# Gaussian Filtresi\n",
    "gaussian_blur = cv2.GaussianBlur(img, (5, 5), 0)\n",
    "\n",
    "# Medyan Filtresi\n",
    "median_blur = cv2.medianBlur(img, 5)\n",
    "\n",
    "# Bilateral Filtresi\n",
    "bilateral_filter = cv2.bilateralFilter(img, 9, 75, 75)\n",
    "\n",
    "# Sonuçları göster\n",
    "cv2.imshow(\"Original Image\", img)\n",
    "cv2.imshow(\"Average Blur\", average_blur)\n",
    "cv2.imshow(\"Gaussian Blur\", gaussian_blur)\n",
    "cv2.imshow(\"Median Blur\", median_blur)\n",
    "cv2.imshow(\"Bilateral Filter\", bilateral_filter)\n",
    "\n",
    "cv2.waitKey(0)\n",
    "cv2.destroyAllWindows()\n"
   ]
  },
  {
   "cell_type": "markdown",
   "metadata": {},
   "source": [
    "Bu örnekte, çeşitli filtreleme teknikleri kullanılmıştır. **cv2.blur** ile ortalama filtreleme (blur), **cv2.GaussianBlur** ile Gauss filtresi, **cv2.medianBlur** ile medyan filtresi ve **cv2.bilateralFilter** ile bilateral filtre uygulanmıştır.\n",
    "\n",
    "#### *Konvolüsyon:*\n",
    "\n",
    "Konvolüsyon, bir görüntü üzerinde bir çekirdek matrisi uygulama sürecidir. Çekirdek, bir görüntü üzerinde belirli bir bölgeye uygulandığında, bu bölgenin pikselleri üzerinde bir matematiksel işlem gerçekleştirir."
   ]
  },
  {
   "cell_type": "code",
   "execution_count": 1,
   "metadata": {},
   "outputs": [],
   "source": [
    "import cv2\n",
    "import numpy as np\n",
    "\n",
    "# Resmi oku\n",
    "image_path = \"C:\\\\Users\\\\Dimoontri\\\\Desktop\\\\opencv_udemy\\\\04_basic_fundamentals\\\\test_images\\\\smile.jpg\"\n",
    "img = cv2.imread(image_path)\n",
    "\n",
    "# Konvolüsyon çekirdeği tanımla\n",
    "kernel = np.ones((5,5), np.float32)/25\n",
    "\n",
    "# Konvolüsyon işlemi\n",
    "convolution_result = cv2.filter2D(img, -1, kernel)\n",
    "\n",
    "# Sonuçları göster\n",
    "cv2.imshow(\"Original Image\", img)\n",
    "cv2.imshow(\"Convolution Result\", convolution_result)\n",
    "\n",
    "cv2.waitKey(0)\n",
    "cv2.destroyAllWindows()\n"
   ]
  },
  {
   "cell_type": "markdown",
   "metadata": {},
   "source": [
    "## **Bitwise İşlemler**\n",
    "- Bitwise Mantık Operatörleri\n",
    "- Resim Üzerinde Bitwise İşlemler"
   ]
  },
  {
   "cell_type": "markdown",
   "metadata": {},
   "source": [
    "\n",
    "**Resim Dönüşüm ve Dizme**\n",
    "- Resim Döndürme İşlemleri\n",
    "- Resim Dizme (Flipping)\n",
    "\n",
    "**Eşikleme (Thresholding)**\n",
    "- Eşikleme Temelleri\n",
    "- Otsu's Method ve Adaptive Thresholding\n",
    "\n",
    "**Morfolojik İşlemler**\n",
    "- Genişleme, Daraltma ve Açma/Kapama Operasyonları\n",
    "- Structuring Element Kavramı\n",
    "\n",
    "**Histogram Analizi**\n",
    "- Histogram Nedir?\n",
    "- Histogram Eşitleme\n",
    "\n",
    "**Kenar Tespiti (Corner Detection)**\n",
    "- Harris Corner Detection\n",
    "- Shi-Tomasi Corner Detection\n",
    "\n",
    "**Canny Kenar Tespiti**\n",
    "- Canny Edge Detection Temelleri\n",
    "- Canny Algoritması Aşamaları"
   ]
  }
 ],
 "metadata": {
  "kernelspec": {
   "display_name": "Python 3",
   "language": "python",
   "name": "python3"
  },
  "language_info": {
   "codemirror_mode": {
    "name": "ipython",
    "version": 3
   },
   "file_extension": ".py",
   "mimetype": "text/x-python",
   "name": "python",
   "nbconvert_exporter": "python",
   "pygments_lexer": "ipython3",
   "version": "3.11.5"
  }
 },
 "nbformat": 4,
 "nbformat_minor": 2
}
