{
 "cells": [
  {
   "cell_type": "markdown",
   "metadata": {},
   "source": [
    "# Video İzleme"
   ]
  },
  {
   "cell_type": "markdown",
   "metadata": {},
   "source": [
    "OpenCV, video dosyalarını okuma ve web kamerasını kullanma işlemleri için bir dizi fonksiyon ve sınıf içerir. İşte OpenCV kullanarak video dosyasını okuma ve web kamerasını açma örnekleri:"
   ]
  },
  {
   "cell_type": "code",
   "execution_count": null,
   "metadata": {},
   "outputs": [],
   "source": [
    "import cv2\n",
    "\n",
    "# Video dosyasının adını ve yolunu belirtin\n",
    "video_path = 'video.mp4'\n",
    "\n",
    "# Video dosyasını açın\n",
    "cap = cv2.VideoCapture(video_path)\n",
    "\n",
    "# Video'nun başarıyla açılıp açılmadığını kontrol edin\n",
    "if not cap.isOpened():\n",
    "    print(\"Error: Video file could not be opened.\")\n",
    "    exit()\n",
    "\n",
    "# Video'nun frame'lerini okuyun ve gösterin\n",
    "while True:\n",
    "    ret, frame = cap.read()  # Bir frame oku\n",
    "    if not ret:\n",
    "        break  # Eğer frame alınamazsa döngüden çık\n",
    "\n",
    "    # Frame üzerinde işlemler yapılabilir\n",
    "    # Örneğin, frame'yi gri tonlamaya çevirmek için: frame = cv2.cvtColor(frame, cv2.COLOR_BGR2GRAY)\n",
    "\n",
    "    cv2.imshow('Video', frame)  # Frame'i göster\n",
    "\n",
    "    if cv2.waitKey(25) & 0xFF == ord('q'):\n",
    "        break  # 'q' tuşuna basıldığında döngüden çık\n",
    "\n",
    "# Kullanılan kaynakları serbest bırak\n",
    "cap.release()\n",
    "cv2.destroyAllWindows()"
   ]
  },
  {
   "cell_type": "markdown",
   "metadata": {},
   "source": [
    "Bu örnekte, cv2.VideoCapture sınıfı ile bir video dosyası açılır. Ardından cap.read() metodu ile her bir frame okunur ve işlemler uygulanabilir. Video'dan frame okuma işlemi tamamlandığında, kaynaklar serbest bırakılır."
   ]
  },
  {
   "cell_type": "markdown",
   "metadata": {},
   "source": [
    "# Webcam İzleme"
   ]
  },
  {
   "cell_type": "code",
   "execution_count": null,
   "metadata": {},
   "outputs": [],
   "source": [
    "import cv2\n",
    "\n",
    "# İlk webcam (genellikle 0) üzerinden bağlan\n",
    "cap = cv2.VideoCapture(0)\n",
    "\n",
    "# Video'nun başarıyla açılıp açılmadığını kontrol edin\n",
    "if not cap.isOpened():\n",
    "    print(\"Error: Webcam could not be opened.\")\n",
    "    exit()\n",
    "\n",
    "# Webcam'den frame'leri okuyun ve gösterin\n",
    "while True:\n",
    "    ret, frame = cap.read()  # Bir frame oku\n",
    "    if not ret:\n",
    "        break  # Eğer frame alınamazsa döngüden çık\n",
    "\n",
    "    # Frame üzerinde işlemler yapılabilir\n",
    "    # Örneğin, frame'yi gri tonlamaya çevirmek için: frame = cv2.cvtColor(frame, cv2.COLOR_BGR2GRAY)\n",
    "\n",
    "    cv2.imshow('Webcam', frame)  # Frame'i göster\n",
    "\n",
    "    if cv2.waitKey(25) & 0xFF == ord('q'):\n",
    "        break  # 'q' tuşuna basıldığında döngüden çık\n",
    "\n",
    "# Kullanılan kaynakları serbest bırak\n",
    "cap.release()\n",
    "cv2.destroyAllWindows()"
   ]
  },
  {
   "cell_type": "markdown",
   "metadata": {},
   "source": [
    "Bu örnekte, cv2.VideoCapture sınıfı ile bir web kamerası açılır (0 genellikle bilgisayarın entegre kamerasını temsil eder). Ardından, her bir frame okunur ve işlemler uygulanabilir. Web kamerasından frame okuma işlemi tamamlandığında, kaynaklar serbest bırakılır.\n",
    "\n",
    "Her iki örnekte de, cv2.waitKey fonksiyonu ile belirli bir tuşa basılması durumunda döngüden çıkılabilecektir (örneğin 'q' tuşuna basıldığında)."
   ]
  }
 ],
 "metadata": {
  "kernelspec": {
   "display_name": "Python 3",
   "language": "python",
   "name": "python3"
  },
  "language_info": {
   "codemirror_mode": {
    "name": "ipython",
    "version": 3
   },
   "file_extension": ".py",
   "mimetype": "text/x-python",
   "name": "python",
   "nbconvert_exporter": "python",
   "pygments_lexer": "ipython3",
   "version": "3.11.5"
  }
 },
 "nbformat": 4,
 "nbformat_minor": 2
}
