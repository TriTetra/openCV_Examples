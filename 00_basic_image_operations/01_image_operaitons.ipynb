{
 "cells": [
  {
   "cell_type": "markdown",
   "metadata": {},
   "source": [
    "# Image Operations"
   ]
  },
  {
   "cell_type": "code",
   "execution_count": null,
   "metadata": {},
   "outputs": [],
   "source": [
    "# cv2 ve numpy kütüphanelerini ekliyoruz\n",
    "import cv2\n",
    "import numpy as np"
   ]
  },
  {
   "cell_type": "markdown",
   "metadata": {},
   "source": [
    "Burada, **cv2** kütüphanesini OpenCV işlevselliğine erişim sağlamak için ve **numpy** kütüphanesini çok boyutlu dizilerle çalışmak için ekliyorsunuz."
   ]
  },
  {
   "cell_type": "markdown",
   "metadata": {},
   "source": [
    "#### Görüntü Okuma (cv2.imread)"
   ]
  },
  {
   "cell_type": "code",
   "execution_count": null,
   "metadata": {},
   "outputs": [],
   "source": [
    "# 'cat.jpg', 'dog.jpg', 'duck.jpg', ve 'klon.jpg' dosyalarından görüntüleri okuyoruz\n",
    "img_cat = cv2.imread(\"cat.jpg\")\n",
    "img_dog = cv2.imread(\"dog.jpg\")\n",
    "img_duck = cv2.imread(\"duck.jpg\")\n",
    "img_klon = cv2.imread(\"klon.jpg\")"
   ]
  },
  {
   "cell_type": "markdown",
   "metadata": {},
   "source": [
    "Bu kod bloğunda, **cv2.imread()** fonksiyonu kullanılarak dört farklı dosyadan (cat.jpg, dog.jpg, duck.jpg ve klon.jpg) görüntü okunuyor. Her bir görüntü, sırasıyla img_cat, img_dog, img_duck ve img_klon adlı değişkenlere atanıyor.\n",
    "\n",
    "cv2.imread() fonksiyonu, *belirtilen dosya adındaki görüntüyü okur ve bir NumPy dizisi olarak döndürür*. Bu diziyi daha sonra görüntü işleme işlemlerinde kullanabilirsiniz."
   ]
  },
  {
   "cell_type": "code",
   "execution_count": null,
   "metadata": {},
   "outputs": [],
   "source": [
    "print(img_cat,img_dog,img_duck,img_klon)"
   ]
  },
  {
   "cell_type": "markdown",
   "metadata": {},
   "source": [
    "cv2.imread() ile okunan görüntüler, NumPy dizileri olarak temsil edilir. Eğer bu dizileri doğrudan **print()** ile bastırırsanız, her bir pikselin renk değerlerini içeren bir matris göreceksiniz. "
   ]
  },
  {
   "cell_type": "code",
   "execution_count": null,
   "metadata": {},
   "outputs": [],
   "source": [
    "# Görüntülerin boyutları ve türleri\n",
    "print(\"Cat Image Shape:\", img_cat.shape, \"Data Type:\", img_cat.dtype)\n",
    "print(\"Dog Image Shape:\", img_dog.shape, \"Data Type:\", img_dog.dtype)\n",
    "print(\"Duck Image Shape:\", img_duck.shape, \"Data Type:\", img_duck.dtype)\n",
    "print(\"Klon Image Shape:\", img_klon.shape, \"Data Type:\", img_klon.dtype)"
   ]
  },
  {
   "cell_type": "markdown",
   "metadata": {},
   "source": [
    "Bu, her bir görüntünün boyutlarını (shape) ve veri türünü (dtype) ekrana basacaktır. Eğer matris içeriğini görmek istiyorsanız, örneğin, sadece ilk satır ve sütunları göstermek için şu şekilde yapabilirsiniz:"
   ]
  },
  {
   "cell_type": "markdown",
   "metadata": {},
   "source": [
    "#### Özel Ayarlar "
   ]
  },
  {
   "cell_type": "code",
   "execution_count": null,
   "metadata": {},
   "outputs": [],
   "source": [
    "cv2.namedWindow(\"Image\",cv2.WINDOW_NORMAL) # -> Normal boyutta bir pencere oluştur \n",
    "cv2.namedWindow(\"Image\",cv2.WINDOW_FULLSCREEN) # -> Tam ekran boyutunda bir pencere oluştur\n",
    "cv2.namedWindow(\"Image\",600,600) # -> Pencere açıldığında 600x600 noktasından açılacak\n",
    "cv2.namedWindow(\"Image\",cv2.WINDOW_AUTOSIZE) # -> Otomatik boyut ayarlamalı bir pencere oluştur"
   ]
  },
  {
   "cell_type": "markdown",
   "metadata": {},
   "source": [
    "**cv2.namedWindow** fonksiyonu, açılacak pencere için özel ayarlar eklememizi sağlar. İlk virgülde pencereye bir isim veririz. İkinci virgülde, pencerenin özelliklerini belirleyebiliriz. Gerekirse, üçüncü virgül ve sonrasında ek ayarlamalar yapabiliriz."
   ]
  },
  {
   "cell_type": "code",
   "execution_count": null,
   "metadata": {},
   "outputs": [],
   "source": [
    "new_width = 300\n",
    "new_height = 200\n",
    "resized_image_1 = cv2.resize(img_cat, (new_width, new_height))"
   ]
  },
  {
   "cell_type": "markdown",
   "metadata": {},
   "source": [
    "Bu örnekte, resize fonksiyonuyla resmin boyutu belirli bir genişlik (new_width) ve yükseklik (new_height) değerine göre ayarlanmıştır. Bu, resmin kesin bir genişlik ve yüksekliğe sahip olmasını sağlar. Ancak, orijinal resmin oranı değişebilir."
   ]
  },
  {
   "cell_type": "markdown",
   "metadata": {},
   "source": [
    "#### Görüntü Gösterme (cv2.imshow)"
   ]
  },
  {
   "cell_type": "code",
   "execution_count": null,
   "metadata": {},
   "outputs": [],
   "source": [
    "cv2.imshow(\"Image\",img_cat)\n",
    "cv2.imshow(\"Image\",img_dog)\n",
    "cv2.imshow(\"Image\",img_duck)\n",
    "cv2.imshow(\"Image\",img_klon)"
   ]
  },
  {
   "cell_type": "markdown",
   "metadata": {},
   "source": [
    "**cv2.imshow** Fonksiyonumuz ilk virgülde pencere ismi veriyoruz ikinci virgülde ise hangi resmi göstereceğimizi seçeriz ve sonuç bize o resmi gösterecektir. (pencereye özellikler vermişsek önceden o pencere adı ile aynı olmalıdır buradaki pencere adı)"
   ]
  },
  {
   "cell_type": "markdown",
   "metadata": {},
   "source": [
    "#### Görüntü Kaydetme (cv2.imwrite)"
   ]
  },
  {
   "cell_type": "code",
   "execution_count": null,
   "metadata": {},
   "outputs": [],
   "source": [
    "cv2.imwrite(\"cat1.jpg\",img_cat)\n",
    "cv2.imwrite(\"dog1.jpg\",img_dog)\n",
    "cv2.imwrite(\"duck1.jpg\",img_duck)\n",
    "cv2.imwrite(\"klon1.jpg\",img_klon)"
   ]
  },
  {
   "cell_type": "markdown",
   "metadata": {},
   "source": [
    "**cv2.imwrite** Fonksiyonu ilk virgülde kaydedilecek yeni dosya adı ve ikinci virgülde hangi değişkenin veya işlenen verinin o dosya yoluna kaydedileceğini seçiyoruz, yani *amacı işlenmiş olan görselleri kaydetmektir*."
   ]
  },
  {
   "cell_type": "code",
   "execution_count": null,
   "metadata": {},
   "outputs": [],
   "source": [
    "cv2.waitKey(0)\n",
    "cv2.destroyAllWindows()"
   ]
  },
  {
   "cell_type": "markdown",
   "metadata": {},
   "source": [
    "- cv2.waitKey(0) fonksiyonu, bir klavye girişini bekler. Programınız, bu satıra geldiğinde bir tuşa basılmasını bekleyecektir. Parametre olarak verilen değer (0), sonsuza kadar bekleme anlamına gelir. Bu sayede, bir tuşa basılana kadar program durur.\n",
    "\n",
    "- cv2.destroyAllWindows() fonksiyonu ise açık olan tüm OpenCV pencerelerini kapatır. Bu fonksiyon, cv2.waitKey fonksiyonu tarafından beklenen bir tuşa basılma olayı gerçekleştiğinde genellikle kullanılır. Yani, eğer bir tuşa basıldıktan sonra pencereleri kapatmak istiyorsanız, cv2.destroyAllWindows() fonksiyonunu çağırabilirsiniz."
   ]
  }
 ],
 "metadata": {
  "kernelspec": {
   "display_name": "Python 3",
   "language": "python",
   "name": "python3"
  },
  "language_info": {
   "codemirror_mode": {
    "name": "ipython",
    "version": 3
   },
   "file_extension": ".py",
   "mimetype": "text/x-python",
   "name": "python",
   "nbconvert_exporter": "python",
   "pygments_lexer": "ipython3",
   "version": "3.11.5"
  }
 },
 "nbformat": 4,
 "nbformat_minor": 2
}
